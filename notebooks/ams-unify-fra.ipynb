{
 "cells": [
  {
   "cell_type": "code",
   "execution_count": 42,
   "id": "c1843775-95c8-426e-86c9-068143dc673e",
   "metadata": {},
   "outputs": [],
   "source": [
    "import subprocess\n",
    "import psycopg2\n",
    "import time"
   ]
  },
  {
   "cell_type": "code",
   "execution_count": 44,
   "id": "056f4805-6ed3-4c78-9677-7f31623b2fe9",
   "metadata": {},
   "outputs": [],
   "source": [
    "from haystack import Pipeline, Document\n",
    "from haystack.components.builders.prompt_builder import PromptBuilder\n",
    "from haystack.components.retrievers.in_memory import InMemoryBM25Retriever\n",
    "from haystack.document_stores.in_memory import InMemoryDocumentStore\n",
    "from haystack_integrations.components.generators.ollama import OllamaGenerator\n",
    "from haystack_integrations.components.embedders.ollama import OllamaDocumentEmbedder\n",
    "from haystack_integrations.components.embedders.ollama import OllamaTextEmbedder\n",
    "from haystack.components.retrievers.in_memory import InMemoryEmbeddingRetriever"
   ]
  },
  {
   "cell_type": "code",
   "execution_count": 46,
   "id": "fa549709-bbe1-4608-ace9-13245722e85c",
   "metadata": {},
   "outputs": [],
   "source": [
    "import numpy as np\n",
    "import matplotlib as plt\n",
    "import pandas as pd"
   ]
  },
  {
   "cell_type": "code",
   "execution_count": 48,
   "id": "8d45262b-50d9-4f14-8fdf-215a8948a483",
   "metadata": {},
   "outputs": [],
   "source": [
    "DB_CONFIG = {\n",
    "    \"dbname\": \"analytics_team\",\n",
    "    \"user\": \"postgres\",\n",
    "    \"password\": \"pasted-sprang-siesta-shortwave\",\n",
    "    \"host\": \"192.168.1.24\",\n",
    "    \"port\": \"5432\"\n",
    "}"
   ]
  },
  {
   "cell_type": "code",
   "execution_count": 50,
   "id": "f664e28e-1b03-47a7-8111-e7a383e80945",
   "metadata": {
    "scrolled": true
   },
   "outputs": [],
   "source": [
    "def connect_and_query(q):\n",
    "    conn = psycopg2.connect(**DB_CONFIG)\n",
    "    cursor = conn.cursor()\n",
    "    cursor.execute(q)\n",
    "    wr = pd.DataFrame(cursor.fetchall())\n",
    "    cursor.close()\n",
    "    conn.close()\n",
    "    return wr    "
   ]
  },
  {
   "cell_type": "code",
   "execution_count": 52,
   "id": "5a0ea573-0d2b-4adf-ae0a-e7ff5e6eef93",
   "metadata": {},
   "outputs": [
    {
     "name": "stdout",
     "output_type": "stream",
     "text": [
      "select \"Degree_Department\" from public.\"survey_data_DGData10\"\n"
     ]
    }
   ],
   "source": [
    "table = \"survey_data_DGData10\"\n",
    "q_tgt = \"from public.\\\"\" + table + \"\\\"\"\n",
    "q_op = \"select\"\n",
    "q_cols = \"\\\"Degree_Department\\\"\"\n",
    "q_cond = \"\"\n",
    "q = [q_op, q_cols, q_tgt]\n",
    "if len(q_cond) > 0:\n",
    "    q.append(q_cond)\n",
    "q = \" \".join(q)\n",
    "print(q)"
   ]
  },
  {
   "cell_type": "code",
   "execution_count": 56,
   "id": "fc7f6328-916b-4708-b7ae-be7ec22e1bea",
   "metadata": {
    "scrolled": true
   },
   "outputs": [],
   "source": [
    "col = connect_and_query(q)"
   ]
  },
  {
   "cell_type": "code",
   "execution_count": 58,
   "id": "34031a38-e4ea-4646-885e-6a030c207839",
   "metadata": {},
   "outputs": [
    {
     "name": "stdout",
     "output_type": "stream",
     "text": [
      "['Department of Mathematics' 'Department of Mathematics '\n",
      " 'Department of Mathematical Sciences' 'School of Mathematics'\n",
      " 'School of Mathematical Sciences'\n",
      " 'Mathematics, Statistics & Computer Science Department'\n",
      " 'PhD Program in Mathematics' 'Department of Statistics'\n",
      " 'Department of Mathematics & Statistics'\n",
      " 'Courant Institute of Mathematical Sciences'\n",
      " 'Department of Mathematical Science'\n",
      " 'Department of Mathematics & Computer Science'\n",
      " 'Department of Mathematics & Science'\n",
      " 'Department of Mathematics & Statistical Sciences'\n",
      " 'Mathematics & Computer Science Department'\n",
      " 'Mathematics & Statistics Department' 'Mathematical Sciences Department'\n",
      " 'Applied & Computational Mathematics Department'\n",
      " 'Department of Statistics & Probability'\n",
      " 'Department of Mathematics, Statistics & Comp Science'\n",
      " 'Department of Applied Mathematics'\n",
      " 'Infomation Systems Statistics & Management Science Department'\n",
      " 'Department of Statistics GIDP'\n",
      " 'Department of Statistics & Applied Probability'\n",
      " 'Department of Statistics & Actuarial Science ' 'School of Statistics'\n",
      " 'Department of Biostatistics C22-GH' 'Department of Statistical Science'\n",
      " 'Department of Statistics & Operation Research'\n",
      " 'Department of Statistics & Biostatistics' 'Department of Statistics '\n",
      " 'Department of Statistical Sciences' 'Statistical Science Department'\n",
      " 'Department of Biostatistics'\n",
      " 'Institute for Computational Engineering & Science'\n",
      " 'Department of  Statistics' 'Epidemiology & Biostatistics Division'\n",
      " 'Department of Bioinformatics & Biostatistics' 'Group in Biostatistics'\n",
      " 'Department of Biostatistics, Sch of Publ Hlth'\n",
      " 'Department of Biostatistics & Informatics'\n",
      " 'Biological Statistics & Comptutational Biology' 'Biostatistics Division'\n",
      " 'Biostatistics & Epidemiology Department' 'Biostatistics Department'\n",
      " 'Div of Biostatistics'\n",
      " 'Division of Biostatistics, School of Public Health'\n",
      " 'Department of Biostatistics & Computational Biology'\n",
      " 'Epidemiology & Biostatistics Department'\n",
      " 'Applied Mathematics Department' 'Center for Statistical Science'\n",
      " 'Department of Epidemiology & Biostatistics' 'Biostatistics'\n",
      " 'Program in Applied Mathematics'\n",
      " 'Applied Mathematics & Statistics Department'\n",
      " 'Department of Mathematics and Statistics'\n",
      " 'Applied Mathematics & Computational Science'\n",
      " 'Engeering Science & Applied Mathematics Dept'\n",
      " 'Program of Mathematics & Statistics'\n",
      " 'School of Engineering & Applied Science'\n",
      " 'Department of Applied Mathematics & Statistics'\n",
      " 'Department of Electricial & System Engineering'\n",
      " 'Program in Applied Computational Mathematics'\n",
      " 'Center for Applied Mathematics' 'Division of Applied Mathematics'\n",
      " 'Computational & Applied Mathematics Department'\n",
      " 'Applied and Computerational Mathematics' 'Mathematics Department' None\n",
      " 'Statistics & Operation Research Area'\n",
      " 'Department of Biostatistics, Public Health' 'School of Natural Sciences']\n"
     ]
    }
   ],
   "source": [
    "print(col[0].unique())"
   ]
  },
  {
   "cell_type": "code",
   "execution_count": 114,
   "id": "191c5c8c-1c29-42a0-aecd-99f262523771",
   "metadata": {},
   "outputs": [
    {
     "ename": "ResponseError",
     "evalue": "model \"nomic-embed-text\" not found, try pulling it first (status code: 404)",
     "output_type": "error",
     "traceback": [
      "\u001b[1;31m---------------------------------------------------------------------------\u001b[0m",
      "\u001b[1;31mResponseError\u001b[0m                             Traceback (most recent call last)",
      "Cell \u001b[1;32mIn[114], line 6\u001b[0m\n\u001b[0;32m      4\u001b[0m arr \u001b[38;5;241m=\u001b[39m [Document(content\u001b[38;5;241m=\u001b[39mx) \u001b[38;5;28;01mfor\u001b[39;00m x \u001b[38;5;129;01min\u001b[39;00m responses]\n\u001b[0;32m      5\u001b[0m \u001b[38;5;66;03m# print(arr[0].content)\u001b[39;00m\n\u001b[1;32m----> 6\u001b[0m result \u001b[38;5;241m=\u001b[39m embedder\u001b[38;5;241m.\u001b[39mrun(text\u001b[38;5;241m=\u001b[39m\u001b[38;5;124m\"\u001b[39m\u001b[38;5;124mWhat do llamas say once you have thanked them? No probllama!\u001b[39m\u001b[38;5;124m\"\u001b[39m)\n\u001b[0;32m      8\u001b[0m \u001b[38;5;28mprint\u001b[39m(result[\u001b[38;5;124m'\u001b[39m\u001b[38;5;124membedding\u001b[39m\u001b[38;5;124m'\u001b[39m])\n",
      "File \u001b[1;32m~\\anaconda3\\Lib\\site-packages\\haystack_integrations\\components\\embedders\\ollama\\text_embedder.py:65\u001b[0m, in \u001b[0;36mOllamaTextEmbedder.run\u001b[1;34m(self, text, generation_kwargs)\u001b[0m\n\u001b[0;32m     50\u001b[0m \u001b[38;5;129m@component\u001b[39m\u001b[38;5;241m.\u001b[39moutput_types(embedding\u001b[38;5;241m=\u001b[39mList[\u001b[38;5;28mfloat\u001b[39m], meta\u001b[38;5;241m=\u001b[39mDict[\u001b[38;5;28mstr\u001b[39m, Any])\n\u001b[0;32m     51\u001b[0m \u001b[38;5;28;01mdef\u001b[39;00m \u001b[38;5;21mrun\u001b[39m(\u001b[38;5;28mself\u001b[39m, text: \u001b[38;5;28mstr\u001b[39m, generation_kwargs: Optional[Dict[\u001b[38;5;28mstr\u001b[39m, Any]] \u001b[38;5;241m=\u001b[39m \u001b[38;5;28;01mNone\u001b[39;00m):\n\u001b[0;32m     52\u001b[0m \u001b[38;5;250m    \u001b[39m\u001b[38;5;124;03m\"\"\"\u001b[39;00m\n\u001b[0;32m     53\u001b[0m \u001b[38;5;124;03m    Runs an Ollama Model to compute embeddings of the provided text.\u001b[39;00m\n\u001b[0;32m     54\u001b[0m \n\u001b[1;32m   (...)\u001b[0m\n\u001b[0;32m     63\u001b[0m \u001b[38;5;124;03m        - `meta`: The metadata collected during the embedding process\u001b[39;00m\n\u001b[0;32m     64\u001b[0m \u001b[38;5;124;03m    \"\"\"\u001b[39;00m\n\u001b[1;32m---> 65\u001b[0m     result \u001b[38;5;241m=\u001b[39m \u001b[38;5;28mself\u001b[39m\u001b[38;5;241m.\u001b[39m_client\u001b[38;5;241m.\u001b[39membeddings(model\u001b[38;5;241m=\u001b[39m\u001b[38;5;28mself\u001b[39m\u001b[38;5;241m.\u001b[39mmodel, prompt\u001b[38;5;241m=\u001b[39mtext, options\u001b[38;5;241m=\u001b[39mgeneration_kwargs)\u001b[38;5;241m.\u001b[39mmodel_dump()\n\u001b[0;32m     66\u001b[0m     result[\u001b[38;5;124m\"\u001b[39m\u001b[38;5;124mmeta\u001b[39m\u001b[38;5;124m\"\u001b[39m] \u001b[38;5;241m=\u001b[39m {\u001b[38;5;124m\"\u001b[39m\u001b[38;5;124mmodel\u001b[39m\u001b[38;5;124m\"\u001b[39m: \u001b[38;5;28mself\u001b[39m\u001b[38;5;241m.\u001b[39mmodel}\n\u001b[0;32m     68\u001b[0m     \u001b[38;5;28;01mreturn\u001b[39;00m result\n",
      "File \u001b[1;32m~\\anaconda3\\Lib\\site-packages\\ollama\\_client.py:380\u001b[0m, in \u001b[0;36mClient.embeddings\u001b[1;34m(self, model, prompt, options, keep_alive)\u001b[0m\n\u001b[0;32m    370\u001b[0m \u001b[38;5;28;01mdef\u001b[39;00m \u001b[38;5;21membeddings\u001b[39m(\n\u001b[0;32m    371\u001b[0m   \u001b[38;5;28mself\u001b[39m,\n\u001b[0;32m    372\u001b[0m   model: \u001b[38;5;28mstr\u001b[39m \u001b[38;5;241m=\u001b[39m \u001b[38;5;124m'\u001b[39m\u001b[38;5;124m'\u001b[39m,\n\u001b[1;32m   (...)\u001b[0m\n\u001b[0;32m    375\u001b[0m   keep_alive: Optional[Union[\u001b[38;5;28mfloat\u001b[39m, \u001b[38;5;28mstr\u001b[39m]] \u001b[38;5;241m=\u001b[39m \u001b[38;5;28;01mNone\u001b[39;00m,\n\u001b[0;32m    376\u001b[0m ) \u001b[38;5;241m-\u001b[39m\u001b[38;5;241m>\u001b[39m EmbeddingsResponse:\n\u001b[0;32m    377\u001b[0m \u001b[38;5;250m  \u001b[39m\u001b[38;5;124;03m\"\"\"\u001b[39;00m\n\u001b[0;32m    378\u001b[0m \u001b[38;5;124;03m  Deprecated in favor of `embed`.\u001b[39;00m\n\u001b[0;32m    379\u001b[0m \u001b[38;5;124;03m  \"\"\"\u001b[39;00m\n\u001b[1;32m--> 380\u001b[0m   \u001b[38;5;28;01mreturn\u001b[39;00m \u001b[38;5;28mself\u001b[39m\u001b[38;5;241m.\u001b[39m_request(\n\u001b[0;32m    381\u001b[0m     EmbeddingsResponse,\n\u001b[0;32m    382\u001b[0m     \u001b[38;5;124m'\u001b[39m\u001b[38;5;124mPOST\u001b[39m\u001b[38;5;124m'\u001b[39m,\n\u001b[0;32m    383\u001b[0m     \u001b[38;5;124m'\u001b[39m\u001b[38;5;124m/api/embeddings\u001b[39m\u001b[38;5;124m'\u001b[39m,\n\u001b[0;32m    384\u001b[0m     json\u001b[38;5;241m=\u001b[39mEmbeddingsRequest(\n\u001b[0;32m    385\u001b[0m       model\u001b[38;5;241m=\u001b[39mmodel,\n\u001b[0;32m    386\u001b[0m       prompt\u001b[38;5;241m=\u001b[39mprompt,\n\u001b[0;32m    387\u001b[0m       options\u001b[38;5;241m=\u001b[39moptions,\n\u001b[0;32m    388\u001b[0m       keep_alive\u001b[38;5;241m=\u001b[39mkeep_alive,\n\u001b[0;32m    389\u001b[0m     )\u001b[38;5;241m.\u001b[39mmodel_dump(exclude_none\u001b[38;5;241m=\u001b[39m\u001b[38;5;28;01mTrue\u001b[39;00m),\n\u001b[0;32m    390\u001b[0m   )\n",
      "File \u001b[1;32m~\\anaconda3\\Lib\\site-packages\\ollama\\_client.py:178\u001b[0m, in \u001b[0;36mClient._request\u001b[1;34m(self, cls, stream, *args, **kwargs)\u001b[0m\n\u001b[0;32m    174\u001b[0m         \u001b[38;5;28;01myield\u001b[39;00m \u001b[38;5;28mcls\u001b[39m(\u001b[38;5;241m*\u001b[39m\u001b[38;5;241m*\u001b[39mpart)\n\u001b[0;32m    176\u001b[0m   \u001b[38;5;28;01mreturn\u001b[39;00m inner()\n\u001b[1;32m--> 178\u001b[0m \u001b[38;5;28;01mreturn\u001b[39;00m \u001b[38;5;28mcls\u001b[39m(\u001b[38;5;241m*\u001b[39m\u001b[38;5;241m*\u001b[39m\u001b[38;5;28mself\u001b[39m\u001b[38;5;241m.\u001b[39m_request_raw(\u001b[38;5;241m*\u001b[39margs, \u001b[38;5;241m*\u001b[39m\u001b[38;5;241m*\u001b[39mkwargs)\u001b[38;5;241m.\u001b[39mjson())\n",
      "File \u001b[1;32m~\\anaconda3\\Lib\\site-packages\\ollama\\_client.py:122\u001b[0m, in \u001b[0;36mClient._request_raw\u001b[1;34m(self, *args, **kwargs)\u001b[0m\n\u001b[0;32m    120\u001b[0m   \u001b[38;5;28;01mreturn\u001b[39;00m r\n\u001b[0;32m    121\u001b[0m \u001b[38;5;28;01mexcept\u001b[39;00m httpx\u001b[38;5;241m.\u001b[39mHTTPStatusError \u001b[38;5;28;01mas\u001b[39;00m e:\n\u001b[1;32m--> 122\u001b[0m   \u001b[38;5;28;01mraise\u001b[39;00m ResponseError(e\u001b[38;5;241m.\u001b[39mresponse\u001b[38;5;241m.\u001b[39mtext, e\u001b[38;5;241m.\u001b[39mresponse\u001b[38;5;241m.\u001b[39mstatus_code) \u001b[38;5;28;01mfrom\u001b[39;00m \u001b[38;5;28;01mNone\u001b[39;00m\n\u001b[0;32m    123\u001b[0m \u001b[38;5;28;01mexcept\u001b[39;00m httpx\u001b[38;5;241m.\u001b[39mConnectError:\n\u001b[0;32m    124\u001b[0m   \u001b[38;5;28;01mraise\u001b[39;00m \u001b[38;5;167;01mConnectionError\u001b[39;00m(CONNECTION_ERROR_MESSAGE) \u001b[38;5;28;01mfrom\u001b[39;00m \u001b[38;5;28;01mNone\u001b[39;00m\n",
      "\u001b[1;31mResponseError\u001b[0m: model \"nomic-embed-text\" not found, try pulling it first (status code: 404)"
     ]
    }
   ],
   "source": [
    "document_store = InMemoryDocumentStore()\n",
    "embedder = OllamaTextEmbedder()\n",
    "responses = col[0].unique()\n",
    "arr = [Document(content=x) for x in responses]\n",
    "# print(arr[0].content)\n",
    "result = embedder.run(text=\"What do llamas say once you have thanked them? No probllama!\")\n",
    "\n",
    "print(result['embedding'])\n",
    "# documents_with_embeddings = embedder.run(arr)\n",
    "# print(documents_with_embeddings)\n",
    "# document_store.write_documents(documents_with_embeddings)"
   ]
  },
  {
   "cell_type": "code",
   "execution_count": 247,
   "id": "fb9a0dd9-8369-4528-97ca-4b22eb3c1769",
   "metadata": {},
   "outputs": [],
   "source": [
    "template = \"\"\"\n",
    "Given only the following information, structurally perform the action requested.\n",
    "Ignore your own knowledge.\n",
    "\n",
    "Context:\n",
    "{% for document in documents %}\n",
    "    {{ document.content }}\n",
    "{% endfor %}\n",
    "\n",
    "Action: {{ query }}?\n",
    "\"\"\""
   ]
  },
  {
   "cell_type": "code",
   "execution_count": 26,
   "id": "a3a3972e-34c7-4cbd-a9f6-ab622f5b8204",
   "metadata": {},
   "outputs": [
    {
     "ename": "ValueError",
     "evalue": "None of the following authentication environment variables are set: ('OPENAI_API_KEY',)",
     "output_type": "error",
     "traceback": [
      "\u001b[1;31m---------------------------------------------------------------------------\u001b[0m",
      "\u001b[1;31mValueError\u001b[0m                                Traceback (most recent call last)",
      "Cell \u001b[1;32mIn[26], line 3\u001b[0m\n\u001b[0;32m      1\u001b[0m pipeline \u001b[38;5;241m=\u001b[39m Pipeline()\n\u001b[1;32m----> 3\u001b[0m pipeline\u001b[38;5;241m.\u001b[39madd_component(\u001b[38;5;124m\"\u001b[39m\u001b[38;5;124mtext_embedder\u001b[39m\u001b[38;5;124m\"\u001b[39m, OpenAIDocumentEmbedder())\n\u001b[0;32m      4\u001b[0m pipeline\u001b[38;5;241m.\u001b[39madd_component(\u001b[38;5;124m\"\u001b[39m\u001b[38;5;124mretriever\u001b[39m\u001b[38;5;124m\"\u001b[39m, InMemoryEmbeddingRetriever(document_store \u001b[38;5;241m=\u001b[39m document_store))\n\u001b[0;32m      5\u001b[0m pipeline\u001b[38;5;241m.\u001b[39madd_component(\u001b[38;5;124m\"\u001b[39m\u001b[38;5;124mprompt_builder\u001b[39m\u001b[38;5;124m\"\u001b[39m, PromptBuilder(template\u001b[38;5;241m=\u001b[39mtemplate))\n",
      "File \u001b[1;32m~\\anaconda3\\Lib\\site-packages\\haystack\\core\\component\\component.py:266\u001b[0m, in \u001b[0;36mComponentMeta.__call__\u001b[1;34m(cls, *args, **kwargs)\u001b[0m\n\u001b[0;32m    264\u001b[0m pre_init_hook \u001b[38;5;241m=\u001b[39m _COMPONENT_PRE_INIT_HOOK\u001b[38;5;241m.\u001b[39mget()\n\u001b[0;32m    265\u001b[0m \u001b[38;5;28;01mif\u001b[39;00m pre_init_hook \u001b[38;5;129;01mis\u001b[39;00m \u001b[38;5;28;01mNone\u001b[39;00m \u001b[38;5;129;01mor\u001b[39;00m pre_init_hook\u001b[38;5;241m.\u001b[39min_progress:\n\u001b[1;32m--> 266\u001b[0m     instance \u001b[38;5;241m=\u001b[39m \u001b[38;5;28msuper\u001b[39m()\u001b[38;5;241m.\u001b[39m\u001b[38;5;21m__call__\u001b[39m(\u001b[38;5;241m*\u001b[39margs, \u001b[38;5;241m*\u001b[39m\u001b[38;5;241m*\u001b[39mkwargs)\n\u001b[0;32m    267\u001b[0m \u001b[38;5;28;01melse\u001b[39;00m:\n\u001b[0;32m    268\u001b[0m     \u001b[38;5;28;01mtry\u001b[39;00m:\n",
      "File \u001b[1;32m~\\anaconda3\\Lib\\site-packages\\haystack\\components\\embedders\\openai_document_embedder.py:116\u001b[0m, in \u001b[0;36mOpenAIDocumentEmbedder.__init__\u001b[1;34m(self, api_key, model, dimensions, api_base_url, organization, prefix, suffix, batch_size, progress_bar, meta_fields_to_embed, embedding_separator, timeout, max_retries)\u001b[0m\n\u001b[0;32m    112\u001b[0m \u001b[38;5;28;01mif\u001b[39;00m max_retries \u001b[38;5;129;01mis\u001b[39;00m \u001b[38;5;28;01mNone\u001b[39;00m:\n\u001b[0;32m    113\u001b[0m     max_retries \u001b[38;5;241m=\u001b[39m \u001b[38;5;28mint\u001b[39m(os\u001b[38;5;241m.\u001b[39menviron\u001b[38;5;241m.\u001b[39mget(\u001b[38;5;124m\"\u001b[39m\u001b[38;5;124mOPENAI_MAX_RETRIES\u001b[39m\u001b[38;5;124m\"\u001b[39m, \u001b[38;5;241m5\u001b[39m))\n\u001b[0;32m    115\u001b[0m \u001b[38;5;28mself\u001b[39m\u001b[38;5;241m.\u001b[39mclient \u001b[38;5;241m=\u001b[39m OpenAI(\n\u001b[1;32m--> 116\u001b[0m     api_key\u001b[38;5;241m=\u001b[39mapi_key\u001b[38;5;241m.\u001b[39mresolve_value(),\n\u001b[0;32m    117\u001b[0m     organization\u001b[38;5;241m=\u001b[39morganization,\n\u001b[0;32m    118\u001b[0m     base_url\u001b[38;5;241m=\u001b[39mapi_base_url,\n\u001b[0;32m    119\u001b[0m     timeout\u001b[38;5;241m=\u001b[39mtimeout,\n\u001b[0;32m    120\u001b[0m     max_retries\u001b[38;5;241m=\u001b[39mmax_retries,\n\u001b[0;32m    121\u001b[0m )\n",
      "File \u001b[1;32m~\\anaconda3\\Lib\\site-packages\\haystack\\utils\\auth.py:205\u001b[0m, in \u001b[0;36mEnvVarSecret.resolve_value\u001b[1;34m(self)\u001b[0m\n\u001b[0;32m    203\u001b[0m         \u001b[38;5;28;01mbreak\u001b[39;00m\n\u001b[0;32m    204\u001b[0m \u001b[38;5;28;01mif\u001b[39;00m out \u001b[38;5;129;01mis\u001b[39;00m \u001b[38;5;28;01mNone\u001b[39;00m \u001b[38;5;129;01mand\u001b[39;00m \u001b[38;5;28mself\u001b[39m\u001b[38;5;241m.\u001b[39m_strict:\n\u001b[1;32m--> 205\u001b[0m     \u001b[38;5;28;01mraise\u001b[39;00m \u001b[38;5;167;01mValueError\u001b[39;00m(\u001b[38;5;124mf\u001b[39m\u001b[38;5;124m\"\u001b[39m\u001b[38;5;124mNone of the following authentication environment variables are set: \u001b[39m\u001b[38;5;132;01m{\u001b[39;00m\u001b[38;5;28mself\u001b[39m\u001b[38;5;241m.\u001b[39m_env_vars\u001b[38;5;132;01m}\u001b[39;00m\u001b[38;5;124m\"\u001b[39m)\n\u001b[0;32m    206\u001b[0m \u001b[38;5;28;01mreturn\u001b[39;00m out\n",
      "\u001b[1;31mValueError\u001b[0m: None of the following authentication environment variables are set: ('OPENAI_API_KEY',)"
     ]
    }
   ],
   "source": [
    "pipeline = Pipeline()\n",
    "\n",
    "pipeline.add_component(\"text_embedder\", OpenAIDocumentEmbedder())\n",
    "pipeline.add_component(\"retriever\", InMemoryEmbeddingRetriever(document_store = document_store))\n",
    "pipeline.add_component(\"prompt_builder\", PromptBuilder(template=template))\n",
    "pipeline.add_component(\"llm\", OllamaGenerator(model=\"llama3.1\", url=\"http://localhost:11434\"))\n",
    "pipeline.connect(\"text_embedder\", \"retriever\")\n",
    "pipeline.connect(\"retriever\",\"prompt_builder\")\n",
    "pipeline.connect(\"prompt_builder\", \"llm\")\n",
    "\n",
    "query = f\"Create a surjective mapping of the inputs {responses} the unique departments into concise subject in format of 'Title: Subject'\"\n",
    "response = pipeline.run({\"prompt_builder\": {\"query\": query}, \"retriever\": {\"query\": query}})"
   ]
  },
  {
   "cell_type": "code",
   "execution_count": 261,
   "id": "45491e49-4b02-4d38-b72e-4050f490e0ca",
   "metadata": {},
   "outputs": [
    {
     "name": "stdout",
     "output_type": "stream",
     "text": [
      "Based on the provided context, I will create a mapping of the departments and schools to single-subject departments. Since \"Mathematics\" is the most common single subject across multiple institutions, I will map all relevant departments and schools to it.\n",
      "\n",
      "Here's the mapping:\n",
      "\n",
      "1. Department of Mathematics and Statistics → **Mathematics**\n",
      "2. Department of Mathematics → **Mathematics**\n",
      "3. Department of Mathematics → **Mathematics** ( duplicate entry)\n",
      "4. Department of Mathematical Sciences → **Mathematics**\n",
      "5. School of Mathematics → **Mathematics**\n",
      "6. School of Mathematical Sciences → **Mathematics** (note: this could also be mapped to \"Statistics\", but considering the other departments, I've chosen \"Mathematics\")\n",
      "7. Mathematics, Statistics & Computer Science Department → **Mathematics** (since Computer Science is not a department in mathematics or statistics, and only one instance is provided)\n",
      "8. PhD Program in Mathematics → **Mathematics**\n",
      "9. Department of Statistics → **Statistics**\n",
      "\n",
      "However, considering that most of the institutions have \"Mathematics\" as their primary department, I will remove \"Department of Statistics\" from the list, resulting in:\n",
      "\n",
      "1. **Mathematics**\n"
     ]
    }
   ],
   "source": [
    "print(response[\"llm\"][\"replies\"][0])"
   ]
  },
  {
   "cell_type": "code",
   "execution_count": null,
   "id": "7951c040-b0c2-4d5b-b49f-86b7125b2736",
   "metadata": {},
   "outputs": [],
   "source": [
    "map = {}"
   ]
  }
 ],
 "metadata": {
  "kernelspec": {
   "display_name": "Python 3 (ipykernel)",
   "language": "python",
   "name": "python3"
  },
  "language_info": {
   "codemirror_mode": {
    "name": "ipython",
    "version": 3
   },
   "file_extension": ".py",
   "mimetype": "text/x-python",
   "name": "python",
   "nbconvert_exporter": "python",
   "pygments_lexer": "ipython3",
   "version": "3.12.7"
  }
 },
 "nbformat": 4,
 "nbformat_minor": 5
}
